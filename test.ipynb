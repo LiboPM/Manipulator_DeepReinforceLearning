{
 "cells": [
  {
   "cell_type": "markdown",
   "metadata": {},
   "source": [
    "source --> https://www.etedal.net/2020/04/pybullet-panda_2.html\n",
    "\n",
    "fetch env --> https://github.com/openai/gym/blob/5c116fb3c91e872505300031d2bd60672b3a6e03/gym/envs/robotics/fetch_env.py#L56\n",
    "\n",
    "https://github.com/mahyaret/kuka_rl/blob/master/kuka_rl_2.ipynb\n",
    "\n",
    "https://openai.com/blog/ingredients-for-robotics-research/"
   ]
  },
  {
   "cell_type": "code",
   "execution_count": 1,
   "metadata": {},
   "outputs": [
    {
     "name": "stderr",
     "output_type": "stream",
     "text": [
      "/home/marcello/miniconda3/envs/jupyter/lib/python3.8/site-packages/gym/logger.py:30: UserWarning: \u001b[33mWARN: Box bound precision lowered by casting to float32\u001b[0m\n",
      "  warnings.warn(colorize('%s: %s'%('WARN', msg % args), 'yellow'))\n"
     ]
    },
    {
     "name": "stdout",
     "output_type": "stream",
     "text": [
      "(24,)\n",
      "(24,)\n",
      "(24,)\n",
      "(24,)\n",
      "(24,)\n",
      "(24,)\n",
      "(24,)\n",
      "(24,)\n",
      "(24,)\n",
      "(24,)\n",
      "(24,)\n",
      "(24,)\n",
      "(24,)\n",
      "(24,)\n",
      "(24,)\n",
      "(24,)\n",
      "(24,)\n",
      "(24,)\n",
      "(24,)\n",
      "(24,)\n",
      "(24,)\n",
      "(24,)\n",
      "(24,)\n",
      "(24,)\n",
      "(24,)\n",
      "(24,)\n",
      "(24,)\n",
      "(24,)\n",
      "(24,)\n",
      "(24,)\n",
      "(24,)\n",
      "(24,)\n",
      "(24,)\n",
      "(24,)\n",
      "(24,)\n",
      "(24,)\n",
      "(24,)\n",
      "(24,)\n",
      "(24,)\n",
      "(24,)\n",
      "(24,)\n",
      "(24,)\n",
      "(24,)\n",
      "(24,)\n",
      "(24,)\n",
      "(24,)\n",
      "(24,)\n",
      "(24,)\n",
      "(24,)\n",
      "(24,)\n",
      "(24,)\n",
      "(24,)\n",
      "(24,)\n",
      "(24,)\n",
      "(24,)\n",
      "(24,)\n",
      "(24,)\n",
      "(24,)\n",
      "(24,)\n",
      "(24,)\n",
      "(24,)\n",
      "(24,)\n",
      "(24,)\n",
      "(24,)\n",
      "(24,)\n",
      "(24,)\n",
      "(24,)\n",
      "(24,)\n",
      "(24,)\n",
      "(24,)\n",
      "(24,)\n",
      "(24,)\n",
      "(24,)\n",
      "(24,)\n",
      "(24,)\n",
      "(24,)\n",
      "(24,)\n",
      "(24,)\n",
      "(24,)\n",
      "(24,)\n",
      "(24,)\n",
      "(24,)\n",
      "(24,)\n",
      "(24,)\n",
      "(24,)\n",
      "(24,)\n",
      "(24,)\n",
      "(24,)\n",
      "(24,)\n",
      "(24,)\n"
     ]
    },
    {
     "ename": "KeyboardInterrupt",
     "evalue": "",
     "output_type": "error",
     "traceback": [
      "\u001b[0;31m---------------------------------------------------------------------------\u001b[0m",
      "\u001b[0;31mKeyboardInterrupt\u001b[0m                         Traceback (most recent call last)",
      "\u001b[0;32m<ipython-input-1-10c0bfa7c735>\u001b[0m in \u001b[0;36m<module>\u001b[0;34m\u001b[0m\n\u001b[1;32m      4\u001b[0m \u001b[0menv\u001b[0m\u001b[0;34m.\u001b[0m\u001b[0mreset\u001b[0m\u001b[0;34m(\u001b[0m\u001b[0;34m)\u001b[0m\u001b[0;34m\u001b[0m\u001b[0;34m\u001b[0m\u001b[0m\n\u001b[1;32m      5\u001b[0m \u001b[0;32mfor\u001b[0m \u001b[0m_\u001b[0m \u001b[0;32min\u001b[0m \u001b[0mrange\u001b[0m\u001b[0;34m(\u001b[0m\u001b[0;36m100\u001b[0m\u001b[0;34m)\u001b[0m\u001b[0;34m:\u001b[0m\u001b[0;34m\u001b[0m\u001b[0;34m\u001b[0m\u001b[0m\n\u001b[0;32m----> 6\u001b[0;31m     \u001b[0mimg\u001b[0m\u001b[0;34m=\u001b[0m\u001b[0menv\u001b[0m\u001b[0;34m.\u001b[0m\u001b[0mrender\u001b[0m\u001b[0;34m(\u001b[0m\u001b[0;34m)\u001b[0m\u001b[0;34m\u001b[0m\u001b[0;34m\u001b[0m\u001b[0m\n\u001b[0m\u001b[1;32m      7\u001b[0m     obs, reward, done, info = env.step(\n\u001b[1;32m      8\u001b[0m         env.action_space.sample()) # take a random action\n",
      "\u001b[0;32m~/jupyter_ws/panda-reach/gym_panda_reach/envs/panda_env.py\u001b[0m in \u001b[0;36mrender\u001b[0;34m(self, mode)\u001b[0m\n\u001b[1;32m    157\u001b[0m                                                      \u001b[0mnearVal\u001b[0m\u001b[0;34m=\u001b[0m\u001b[0;36m0.1\u001b[0m\u001b[0;34m,\u001b[0m\u001b[0;34m\u001b[0m\u001b[0;34m\u001b[0m\u001b[0m\n\u001b[1;32m    158\u001b[0m                                                      farVal=100.0)\n\u001b[0;32m--> 159\u001b[0;31m         (_, _, px, _, _) = p.getCameraImage(width=960,\n\u001b[0m\u001b[1;32m    160\u001b[0m                                               \u001b[0mheight\u001b[0m\u001b[0;34m=\u001b[0m\u001b[0;36m720\u001b[0m\u001b[0;34m,\u001b[0m\u001b[0;34m\u001b[0m\u001b[0;34m\u001b[0m\u001b[0m\n\u001b[1;32m    161\u001b[0m                                               \u001b[0mviewMatrix\u001b[0m\u001b[0;34m=\u001b[0m\u001b[0mview_matrix\u001b[0m\u001b[0;34m,\u001b[0m\u001b[0;34m\u001b[0m\u001b[0;34m\u001b[0m\u001b[0m\n",
      "\u001b[0;31mKeyboardInterrupt\u001b[0m: "
     ]
    }
   ],
   "source": [
    "import gym\n",
    "import gym_panda_reach\n",
    "env = gym.make('panda-reach-v0')\n",
    "env.reset()\n",
    "for _ in range(100):\n",
    "    img=env.render()\n",
    "    obs, reward, done, info = env.step(\n",
    "        env.action_space.sample()) # take a random action\n",
    "env.close()"
   ]
  },
  {
   "cell_type": "code",
   "execution_count": 2,
   "metadata": {},
   "outputs": [
    {
     "data": {
      "text/plain": [
       "<matplotlib.image.AxesImage at 0x7f342d730130>"
      ]
     },
     "execution_count": 2,
     "metadata": {},
     "output_type": "execute_result"
    },
    {
     "data": {
      "image/png": "[encoded data removed]",
      "text/plain": [
       "<Figure size 432x288 with 1 Axes>"
      ]
     },
     "metadata": {
      "needs_background": "light"
     },
     "output_type": "display_data"
    }
   ],
   "source": [
    "import matplotlib.pyplot as plt\n",
    "plt.imshow(img)"
   ]
  },
  {
   "cell_type": "code",
   "execution_count": 4,
   "metadata": {},
   "outputs": [
    {
     "data": {
      "text/plain": [
       "array([0.        , 0.92941176, 0.54901961])"
      ]
     },
     "execution_count": 4,
     "metadata": {},
     "output_type": "execute_result"
    }
   ],
   "source": [
    "import numpy as np\n",
    "np.array([0, 237, 140])/255"
   ]
  },
  {
   "cell_type": "code",
   "execution_count": 3,
   "metadata": {},
   "outputs": [
    {
     "data": {
      "text/plain": [
       "array([0.49019608, 0.8627451 , 0.59607843])"
      ]
     },
     "execution_count": 3,
     "metadata": {},
     "output_type": "execute_result"
    }
   ],
   "source": [
    "import numpy as np\n",
    "np.array([125, 220, 152])/255"
   ]
  },
  {
   "cell_type": "code",
   "execution_count": null,
   "metadata": {},
   "outputs": [],
   "source": []
  }
 ],
 "metadata": {
  "kernelspec": {
   "display_name": "Python [conda env:jupyter] *",
   "language": "python",
   "name": "conda-env-jupyter-py"
  },
  "language_info": {
   "codemirror_mode": {
    "name": "ipython",
    "version": 3
   },
   "file_extension": ".py",
   "mimetype": "text/x-python",
   "name": "python",
   "nbconvert_exporter": "python",
   "pygments_lexer": "ipython3",
   "version": "3.8.3"
  }
 },
 "nbformat": 4,
 "nbformat_minor": 4
}
